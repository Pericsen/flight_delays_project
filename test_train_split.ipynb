{
 "cells": [
  {
   "cell_type": "code",
   "execution_count": 2,
   "metadata": {},
   "outputs": [],
   "source": [
    "import pandas as pd"
   ]
  },
  {
   "cell_type": "code",
   "execution_count": 3,
   "metadata": {},
   "outputs": [],
   "source": [
    "df = pd.read_csv('DATA/vuelos.csv')"
   ]
  },
  {
   "cell_type": "code",
   "execution_count": 5,
   "metadata": {},
   "outputs": [
    {
     "data": {
      "text/plain": [
       "(2183349, 47)"
      ]
     },
     "execution_count": 5,
     "metadata": {},
     "output_type": "execute_result"
    }
   ],
   "source": [
    "df.shape"
   ]
  },
  {
   "cell_type": "markdown",
   "metadata": {},
   "source": [
    "#### Para reducir la cantidad de datos, vamos a armar el modelo sobre un mes de datos con tal de reducir el tiempo de ejecucion pero manteniendo una cantidad de datos significativas para el analisis y modelo"
   ]
  },
  {
   "cell_type": "code",
   "execution_count": 35,
   "metadata": {},
   "outputs": [],
   "source": [
    "df = df[df['Month'] == 4] #Elegimos un mes arbitrario"
   ]
  },
  {
   "cell_type": "code",
   "execution_count": 11,
   "metadata": {},
   "outputs": [
    {
     "data": {
      "text/plain": [
       "1621908     1\n",
       "1621909     1\n",
       "1621910     1\n",
       "1621911     1\n",
       "1621912     1\n",
       "           ..\n",
       "2183344    30\n",
       "2183345    30\n",
       "2183346    30\n",
       "2183347    30\n",
       "2183348    30\n",
       "Name: DayOfMonth, Length: 561441, dtype: int64"
      ]
     },
     "execution_count": 11,
     "metadata": {},
     "output_type": "execute_result"
    }
   ],
   "source": [
    "df[df['Month'] == 4]['DayOfMonth']"
   ]
  },
  {
   "cell_type": "code",
   "execution_count": 36,
   "metadata": {},
   "outputs": [
    {
     "data": {
      "text/plain": [
       "Year                                    0\n",
       "Month                                   0\n",
       "DayOfMonth                              0\n",
       "DayOfWeek                               0\n",
       "FlightDate                              0\n",
       "Reporting_Airline                       0\n",
       "Tail_Number                          1366\n",
       "Flight_Number_Reporting_Airline         0\n",
       "Origin                                  0\n",
       "OriginCityName                          0\n",
       "OriginState                             0\n",
       "OriginStateName                         0\n",
       "Dest                                    0\n",
       "DestCityName                            0\n",
       "DestState                               0\n",
       "DestStateName                           0\n",
       "CRSDepTime                              0\n",
       "DepTime                              9310\n",
       "DepDelay                             9311\n",
       "DepDelayMinutes                      9311\n",
       "DepDel15                             9311\n",
       "DepartureDelayGroups                 9311\n",
       "DepTimeBlk                              0\n",
       "TaxiOut                              9528\n",
       "WheelsOff                            9528\n",
       "WheelsOn                             9769\n",
       "TaxiIn                               9769\n",
       "CRSArrTime                              0\n",
       "ArrTime                              9769\n",
       "ArrDelay                            11192\n",
       "ArrDelayMinutes                     11192\n",
       "ArrDel15                            11192\n",
       "ArrivalDelayGroups                  11192\n",
       "ArrTimeBlk                              0\n",
       "Cancelled                               0\n",
       "Diverted                                0\n",
       "CRSElapsedTime                          0\n",
       "ActualElapsedTime                   11192\n",
       "AirTime                             11192\n",
       "Distance                                0\n",
       "DistanceGroup                           0\n",
       "CarrierDelay                            0\n",
       "WeatherDelay                            0\n",
       "NASDelay                                0\n",
       "SecurityDelay                           0\n",
       "LateAircraftDelay                  435559\n",
       "DivAirportLandings                      0\n",
       "dtype: int64"
      ]
     },
     "execution_count": 36,
     "metadata": {},
     "output_type": "execute_result"
    }
   ],
   "source": [
    "df.isna().sum()"
   ]
  },
  {
   "cell_type": "code",
   "execution_count": 37,
   "metadata": {},
   "outputs": [],
   "source": [
    "df = df[df['DepDel15'].isna() == False]"
   ]
  },
  {
   "cell_type": "code",
   "execution_count": 38,
   "metadata": {},
   "outputs": [],
   "source": [
    "train_data = df.sample(frac=0.7, random_state=25)\n",
    "test_data = df.drop(train_data.index)"
   ]
  },
  {
   "cell_type": "code",
   "execution_count": 39,
   "metadata": {},
   "outputs": [
    {
     "name": "stdout",
     "output_type": "stream",
     "text": [
      "Numero de filas para el train: 386491\n",
      "Numero de filas para el test: 165639\n"
     ]
    }
   ],
   "source": [
    "print(f\"Numero de filas para el train: {train_data.shape[0]}\")\n",
    "print(f\"Numero de filas para el test: {test_data.shape[0]}\")"
   ]
  },
  {
   "cell_type": "code",
   "execution_count": 40,
   "metadata": {},
   "outputs": [],
   "source": [
    "train_data = train_data.reset_index(drop=True)"
   ]
  },
  {
   "cell_type": "code",
   "execution_count": 41,
   "metadata": {},
   "outputs": [],
   "source": [
    "test_data = test_data.sample(frac=1)"
   ]
  },
  {
   "cell_type": "code",
   "execution_count": 42,
   "metadata": {},
   "outputs": [],
   "source": [
    "test_data = test_data.reset_index(drop=True)"
   ]
  },
  {
   "cell_type": "code",
   "execution_count": 43,
   "metadata": {},
   "outputs": [],
   "source": [
    "train_data.to_csv(\"DATA/train.csv\")\n",
    "test_data.to_csv(\"DATA/test_data.csv\")"
   ]
  },
  {
   "cell_type": "code",
   "execution_count": 44,
   "metadata": {},
   "outputs": [
    {
     "data": {
      "text/plain": [
       "Year                                    0\n",
       "Month                                   0\n",
       "DayOfMonth                              0\n",
       "DayOfWeek                               0\n",
       "FlightDate                              0\n",
       "Reporting_Airline                       0\n",
       "Tail_Number                             0\n",
       "Flight_Number_Reporting_Airline         0\n",
       "Origin                                  0\n",
       "OriginCityName                          0\n",
       "OriginState                             0\n",
       "OriginStateName                         0\n",
       "Dest                                    0\n",
       "DestCityName                            0\n",
       "DestState                               0\n",
       "DestStateName                           0\n",
       "CRSDepTime                              0\n",
       "DepTime                                 0\n",
       "DepDelay                                0\n",
       "DepDelayMinutes                         0\n",
       "DepDel15                                0\n",
       "DepartureDelayGroups                    0\n",
       "DepTimeBlk                              0\n",
       "TaxiOut                               147\n",
       "WheelsOff                             147\n",
       "WheelsOn                              315\n",
       "TaxiIn                                315\n",
       "CRSArrTime                              0\n",
       "ArrTime                               315\n",
       "ArrDelay                             1290\n",
       "ArrDelayMinutes                      1290\n",
       "ArrDel15                             1290\n",
       "ArrivalDelayGroups                   1290\n",
       "ArrTimeBlk                              0\n",
       "Cancelled                               0\n",
       "Diverted                                0\n",
       "CRSElapsedTime                          0\n",
       "ActualElapsedTime                    1290\n",
       "AirTime                              1290\n",
       "Distance                                0\n",
       "DistanceGroup                           0\n",
       "CarrierDelay                            0\n",
       "WeatherDelay                            0\n",
       "NASDelay                                0\n",
       "SecurityDelay                           0\n",
       "LateAircraftDelay                  298427\n",
       "DivAirportLandings                      0\n",
       "dtype: int64"
      ]
     },
     "execution_count": 44,
     "metadata": {},
     "output_type": "execute_result"
    }
   ],
   "source": [
    "train_data.isna().sum()"
   ]
  }
 ],
 "metadata": {
  "kernelspec": {
   "display_name": "Python 3",
   "language": "python",
   "name": "python3"
  },
  "language_info": {
   "codemirror_mode": {
    "name": "ipython",
    "version": 3
   },
   "file_extension": ".py",
   "mimetype": "text/x-python",
   "name": "python",
   "nbconvert_exporter": "python",
   "pygments_lexer": "ipython3",
   "version": "3.11.4"
  }
 },
 "nbformat": 4,
 "nbformat_minor": 2
}
