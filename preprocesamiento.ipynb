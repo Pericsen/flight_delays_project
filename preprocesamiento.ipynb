{
 "cells": [
  {
   "cell_type": "markdown",
   "metadata": {},
   "source": [
    "### Voy a separar los scripts en 4: Un preprocesamiento inicial, separando los datasets en test y train, para luego hacer un EDA sobre el test y entrenar el modelo sobre ella."
   ]
  },
  {
   "cell_type": "code",
   "execution_count": 2,
   "metadata": {},
   "outputs": [],
   "source": [
    "import pandas as pd\n",
    "import numpy as np"
   ]
  },
  {
   "cell_type": "markdown",
   "metadata": {},
   "source": [
    "#### Importamos los datos crudos y elegimos columnas para el EDA."
   ]
  },
  {
   "cell_type": "code",
   "execution_count": null,
   "metadata": {},
   "outputs": [],
   "source": [
    "raw_data = pd.read_csv(\"DATA/flights_raw.csv\")\n",
    "\n",
    "#raw_data.info()"
   ]
  },
  {
   "cell_type": "code",
   "execution_count": 3,
   "metadata": {},
   "outputs": [
    {
     "name": "stderr",
     "output_type": "stream",
     "text": [
      "C:\\Users\\peric\\AppData\\Local\\Temp\\ipykernel_17380\\227173490.py:1: DtypeWarning: Columns (78,85) have mixed types. Specify dtype option on import or set low_memory=False.\n",
      "  raw_data = pd.read_csv(\"DATA/flights_raw.csv\")\n"
     ]
    }
   ],
   "source": [
    "raw_data = raw_data[['Year', 'Month', 'DayofMonth', 'DayOfWeek', 'FlightDate',\n",
    "       'Reporting_Airline', 'Tail_Number', 'Flight_Number_Reporting_Airline',\n",
    "       'Origin', 'OriginCityName', 'OriginState', 'OriginStateName', 'Dest',\n",
    "       'DestCityName', 'DestState', 'DestStateName', 'CRSDepTime', 'DepTime',\n",
    "       'DepDelay', 'DepDelayMinutes', 'DepDel15', 'DepartureDelayGroups',\n",
    "       'DepTimeBlk', 'TaxiOut', 'WheelsOff', 'WheelsOn', 'TaxiIn',\n",
    "       'CRSArrTime', 'ArrTime', 'ArrDelay', 'ArrDelayMinutes', 'ArrDel15',\n",
    "       'ArrivalDelayGroups', 'ArrTimeBlk', 'Cancelled',\n",
    "       'Diverted', 'CRSElapsedTime', 'ActualElapsedTime', 'AirTime',\n",
    "       'Distance', 'DistanceGroup', 'CarrierDelay', 'WeatherDelay', 'NASDelay',\n",
    "       'SecurityDelay', 'LateAircraftDelay', 'DivAirportLandings']]\n",
    "\n",
    "raw_data[['CarrierDelay', 'WeatherDelay', 'NASDelay', 'SecurityDelay']] = raw_data[['CarrierDelay', 'WeatherDelay', 'NASDelay', 'SecurityDelay']].replace(np.NaN, 0)\n",
    "\n",
    "raw_data = raw_data.rename(columns={'DayofMonth': 'DayOfMonth'})\n",
    "\n",
    "raw_data.to_csv('DATA/vuelos.csv', index = False) "
   ]
  },
  {
   "cell_type": "code",
   "execution_count": null,
   "metadata": {},
   "outputs": [],
   "source": []
  }
 ],
 "metadata": {
  "kernelspec": {
   "display_name": "Python 3",
   "language": "python",
   "name": "python3"
  },
  "language_info": {
   "codemirror_mode": {
    "name": "ipython",
    "version": 3
   },
   "file_extension": ".py",
   "mimetype": "text/x-python",
   "name": "python",
   "nbconvert_exporter": "python",
   "pygments_lexer": "ipython3",
   "version": "3.11.4"
  }
 },
 "nbformat": 4,
 "nbformat_minor": 2
}
